{
 "cells": [
  {
   "cell_type": "markdown",
   "metadata": {},
   "source": [
    "Automated Eda Using `ydata_profiling`\n"
   ]
  },
  {
   "cell_type": "code",
   "execution_count": 1,
   "metadata": {},
   "outputs": [
    {
     "name": "stdout",
     "output_type": "stream",
     "text": [
      "Requirement already satisfied: pandas in c:\\users\\ushah\\miniconda3\\envs\\ydata_profiling\\lib\\site-packages (2.0.3)\n",
      "Requirement already satisfied: python-dateutil>=2.8.2 in c:\\users\\ushah\\miniconda3\\envs\\ydata_profiling\\lib\\site-packages (from pandas) (2.8.2)\n",
      "Requirement already satisfied: pytz>=2020.1 in c:\\users\\ushah\\miniconda3\\envs\\ydata_profiling\\lib\\site-packages (from pandas) (2023.3.post1)\n",
      "Requirement already satisfied: tzdata>=2022.1 in c:\\users\\ushah\\miniconda3\\envs\\ydata_profiling\\lib\\site-packages (from pandas) (2023.3)\n",
      "Requirement already satisfied: numpy>=1.21.0 in c:\\users\\ushah\\miniconda3\\envs\\ydata_profiling\\lib\\site-packages (from pandas) (1.25.2)\n",
      "Requirement already satisfied: six>=1.5 in c:\\users\\ushah\\miniconda3\\envs\\ydata_profiling\\lib\\site-packages (from python-dateutil>=2.8.2->pandas) (1.16.0)\n",
      "Note: you may need to restart the kernel to use updated packages.\n"
     ]
    },
    {
     "name": "stderr",
     "output_type": "stream",
     "text": [
      "WARNING: There was an error checking the latest version of pip.\n"
     ]
    }
   ],
   "source": [
    "pip install pandas"
   ]
  },
  {
   "cell_type": "code",
   "execution_count": 2,
   "metadata": {},
   "outputs": [
    {
     "name": "stdout",
     "output_type": "stream",
     "text": [
      "Requirement already satisfied: seaborn in c:\\users\\ushah\\miniconda3\\envs\\ydata_profiling\\lib\\site-packages (0.12.2)\n",
      "Requirement already satisfied: numpy!=1.24.0,>=1.17 in c:\\users\\ushah\\miniconda3\\envs\\ydata_profiling\\lib\\site-packages (from seaborn) (1.25.2)\n",
      "Requirement already satisfied: pandas>=0.25 in c:\\users\\ushah\\miniconda3\\envs\\ydata_profiling\\lib\\site-packages (from seaborn) (2.0.3)\n",
      "Requirement already satisfied: matplotlib!=3.6.1,>=3.1 in c:\\users\\ushah\\miniconda3\\envs\\ydata_profiling\\lib\\site-packages (from seaborn) (3.7.3)\n",
      "Requirement already satisfied: contourpy>=1.0.1 in c:\\users\\ushah\\miniconda3\\envs\\ydata_profiling\\lib\\site-packages (from matplotlib!=3.6.1,>=3.1->seaborn) (1.1.1)\n",
      "Requirement already satisfied: cycler>=0.10 in c:\\users\\ushah\\miniconda3\\envs\\ydata_profiling\\lib\\site-packages (from matplotlib!=3.6.1,>=3.1->seaborn) (0.12.1)\n",
      "Requirement already satisfied: fonttools>=4.22.0 in c:\\users\\ushah\\miniconda3\\envs\\ydata_profiling\\lib\\site-packages (from matplotlib!=3.6.1,>=3.1->seaborn) (4.43.1)\n",
      "Requirement already satisfied: kiwisolver>=1.0.1 in c:\\users\\ushah\\miniconda3\\envs\\ydata_profiling\\lib\\site-packages (from matplotlib!=3.6.1,>=3.1->seaborn) (1.4.5)\n",
      "Requirement already satisfied: packaging>=20.0 in c:\\users\\ushah\\miniconda3\\envs\\ydata_profiling\\lib\\site-packages (from matplotlib!=3.6.1,>=3.1->seaborn) (23.2)\n",
      "Requirement already satisfied: pillow>=6.2.0 in c:\\users\\ushah\\miniconda3\\envs\\ydata_profiling\\lib\\site-packages (from matplotlib!=3.6.1,>=3.1->seaborn) (10.1.0)\n",
      "Requirement already satisfied: pyparsing>=2.3.1 in c:\\users\\ushah\\miniconda3\\envs\\ydata_profiling\\lib\\site-packages (from matplotlib!=3.6.1,>=3.1->seaborn) (3.1.1)\n",
      "Requirement already satisfied: python-dateutil>=2.7 in c:\\users\\ushah\\miniconda3\\envs\\ydata_profiling\\lib\\site-packages (from matplotlib!=3.6.1,>=3.1->seaborn) (2.8.2)\n",
      "Requirement already satisfied: pytz>=2020.1 in c:\\users\\ushah\\miniconda3\\envs\\ydata_profiling\\lib\\site-packages (from pandas>=0.25->seaborn) (2023.3.post1)\n",
      "Requirement already satisfied: tzdata>=2022.1 in c:\\users\\ushah\\miniconda3\\envs\\ydata_profiling\\lib\\site-packages (from pandas>=0.25->seaborn) (2023.3)\n",
      "Requirement already satisfied: six>=1.5 in c:\\users\\ushah\\miniconda3\\envs\\ydata_profiling\\lib\\site-packages (from python-dateutil>=2.7->matplotlib!=3.6.1,>=3.1->seaborn) (1.16.0)\n",
      "Note: you may need to restart the kernel to use updated packages.\n"
     ]
    },
    {
     "name": "stderr",
     "output_type": "stream",
     "text": [
      "WARNING: There was an error checking the latest version of pip.\n"
     ]
    }
   ],
   "source": [
    "pip install seaborn"
   ]
  },
  {
   "cell_type": "code",
   "execution_count": 3,
   "metadata": {},
   "outputs": [
    {
     "name": "stdout",
     "output_type": "stream",
     "text": [
      "Requirement already satisfied: ydata-profiling in c:\\users\\ushah\\miniconda3\\envs\\ydata_profiling\\lib\\site-packages (4.6.0)\n",
      "Requirement already satisfied: scipy<1.12,>=1.4.1 in c:\\users\\ushah\\miniconda3\\envs\\ydata_profiling\\lib\\site-packages (from ydata-profiling) (1.11.3)\n",
      "Requirement already satisfied: pandas!=1.4.0,<2.1,>1.1 in c:\\users\\ushah\\miniconda3\\envs\\ydata_profiling\\lib\\site-packages (from ydata-profiling) (2.0.3)\n",
      "Requirement already satisfied: matplotlib<=3.7.3,>=3.2 in c:\\users\\ushah\\miniconda3\\envs\\ydata_profiling\\lib\\site-packages (from ydata-profiling) (3.7.3)\n",
      "Requirement already satisfied: pydantic<2,>=1.8.1 in c:\\users\\ushah\\miniconda3\\envs\\ydata_profiling\\lib\\site-packages (from ydata-profiling) (1.10.13)\n",
      "Requirement already satisfied: PyYAML<6.1,>=5.0.0 in c:\\users\\ushah\\miniconda3\\envs\\ydata_profiling\\lib\\site-packages (from ydata-profiling) (6.0.1)\n",
      "Requirement already satisfied: jinja2<3.2,>=2.11.1 in c:\\users\\ushah\\miniconda3\\envs\\ydata_profiling\\lib\\site-packages (from ydata-profiling) (3.1.2)\n",
      "Requirement already satisfied: visions[type_image_path]==0.7.5 in c:\\users\\ushah\\miniconda3\\envs\\ydata_profiling\\lib\\site-packages (from ydata-profiling) (0.7.5)\n",
      "Requirement already satisfied: numpy<1.26,>=1.16.0 in c:\\users\\ushah\\miniconda3\\envs\\ydata_profiling\\lib\\site-packages (from ydata-profiling) (1.25.2)\n",
      "Requirement already satisfied: htmlmin==0.1.12 in c:\\users\\ushah\\miniconda3\\envs\\ydata_profiling\\lib\\site-packages (from ydata-profiling) (0.1.12)\n",
      "Requirement already satisfied: phik<0.13,>=0.11.1 in c:\\users\\ushah\\miniconda3\\envs\\ydata_profiling\\lib\\site-packages (from ydata-profiling) (0.12.3)\n",
      "Requirement already satisfied: requests<3,>=2.24.0 in c:\\users\\ushah\\miniconda3\\envs\\ydata_profiling\\lib\\site-packages (from ydata-profiling) (2.31.0)\n",
      "Requirement already satisfied: tqdm<5,>=4.48.2 in c:\\users\\ushah\\miniconda3\\envs\\ydata_profiling\\lib\\site-packages (from ydata-profiling) (4.66.1)\n",
      "Requirement already satisfied: seaborn<0.13,>=0.10.1 in c:\\users\\ushah\\miniconda3\\envs\\ydata_profiling\\lib\\site-packages (from ydata-profiling) (0.12.2)\n",
      "Requirement already satisfied: multimethod<2,>=1.4 in c:\\users\\ushah\\miniconda3\\envs\\ydata_profiling\\lib\\site-packages (from ydata-profiling) (1.10)\n",
      "Requirement already satisfied: statsmodels<1,>=0.13.2 in c:\\users\\ushah\\miniconda3\\envs\\ydata_profiling\\lib\\site-packages (from ydata-profiling) (0.14.0)\n",
      "Requirement already satisfied: typeguard<5,>=4.1.2 in c:\\users\\ushah\\miniconda3\\envs\\ydata_profiling\\lib\\site-packages (from ydata-profiling) (4.1.5)\n",
      "Requirement already satisfied: imagehash==4.3.1 in c:\\users\\ushah\\miniconda3\\envs\\ydata_profiling\\lib\\site-packages (from ydata-profiling) (4.3.1)\n",
      "Requirement already satisfied: wordcloud>=1.9.1 in c:\\users\\ushah\\miniconda3\\envs\\ydata_profiling\\lib\\site-packages (from ydata-profiling) (1.9.2)\n",
      "Requirement already satisfied: dacite>=1.8 in c:\\users\\ushah\\miniconda3\\envs\\ydata_profiling\\lib\\site-packages (from ydata-profiling) (1.8.1)\n",
      "Requirement already satisfied: numba<0.59.0,>=0.56.0 in c:\\users\\ushah\\miniconda3\\envs\\ydata_profiling\\lib\\site-packages (from ydata-profiling) (0.58.0)\n",
      "Requirement already satisfied: PyWavelets in c:\\users\\ushah\\miniconda3\\envs\\ydata_profiling\\lib\\site-packages (from imagehash==4.3.1->ydata-profiling) (1.4.1)\n",
      "Requirement already satisfied: pillow in c:\\users\\ushah\\miniconda3\\envs\\ydata_profiling\\lib\\site-packages (from imagehash==4.3.1->ydata-profiling) (10.1.0)\n",
      "Requirement already satisfied: attrs>=19.3.0 in c:\\users\\ushah\\miniconda3\\envs\\ydata_profiling\\lib\\site-packages (from visions[type_image_path]==0.7.5->ydata-profiling) (23.1.0)\n",
      "Requirement already satisfied: networkx>=2.4 in c:\\users\\ushah\\miniconda3\\envs\\ydata_profiling\\lib\\site-packages (from visions[type_image_path]==0.7.5->ydata-profiling) (3.1)\n",
      "Requirement already satisfied: tangled-up-in-unicode>=0.0.4 in c:\\users\\ushah\\miniconda3\\envs\\ydata_profiling\\lib\\site-packages (from visions[type_image_path]==0.7.5->ydata-profiling) (0.2.0)\n",
      "Requirement already satisfied: MarkupSafe>=2.0 in c:\\users\\ushah\\miniconda3\\envs\\ydata_profiling\\lib\\site-packages (from jinja2<3.2,>=2.11.1->ydata-profiling) (2.1.3)\n",
      "Requirement already satisfied: contourpy>=1.0.1 in c:\\users\\ushah\\miniconda3\\envs\\ydata_profiling\\lib\\site-packages (from matplotlib<=3.7.3,>=3.2->ydata-profiling) (1.1.1)\n",
      "Requirement already satisfied: cycler>=0.10 in c:\\users\\ushah\\miniconda3\\envs\\ydata_profiling\\lib\\site-packages (from matplotlib<=3.7.3,>=3.2->ydata-profiling) (0.12.1)\n",
      "Requirement already satisfied: fonttools>=4.22.0 in c:\\users\\ushah\\miniconda3\\envs\\ydata_profiling\\lib\\site-packages (from matplotlib<=3.7.3,>=3.2->ydata-profiling) (4.43.1)\n",
      "Requirement already satisfied: kiwisolver>=1.0.1 in c:\\users\\ushah\\miniconda3\\envs\\ydata_profiling\\lib\\site-packages (from matplotlib<=3.7.3,>=3.2->ydata-profiling) (1.4.5)\n",
      "Requirement already satisfied: packaging>=20.0 in c:\\users\\ushah\\miniconda3\\envs\\ydata_profiling\\lib\\site-packages (from matplotlib<=3.7.3,>=3.2->ydata-profiling) (23.2)\n",
      "Requirement already satisfied: pyparsing>=2.3.1 in c:\\users\\ushah\\miniconda3\\envs\\ydata_profiling\\lib\\site-packages (from matplotlib<=3.7.3,>=3.2->ydata-profiling) (3.1.1)\n",
      "Requirement already satisfied: python-dateutil>=2.7 in c:\\users\\ushah\\miniconda3\\envs\\ydata_profiling\\lib\\site-packages (from matplotlib<=3.7.3,>=3.2->ydata-profiling) (2.8.2)\n",
      "Requirement already satisfied: llvmlite<0.42,>=0.41.0dev0 in c:\\users\\ushah\\miniconda3\\envs\\ydata_profiling\\lib\\site-packages (from numba<0.59.0,>=0.56.0->ydata-profiling) (0.41.0)\n",
      "Requirement already satisfied: pytz>=2020.1 in c:\\users\\ushah\\miniconda3\\envs\\ydata_profiling\\lib\\site-packages (from pandas!=1.4.0,<2.1,>1.1->ydata-profiling) (2023.3.post1)\n",
      "Requirement already satisfied: tzdata>=2022.1 in c:\\users\\ushah\\miniconda3\\envs\\ydata_profiling\\lib\\site-packages (from pandas!=1.4.0,<2.1,>1.1->ydata-profiling) (2023.3)\n",
      "Requirement already satisfied: joblib>=0.14.1 in c:\\users\\ushah\\miniconda3\\envs\\ydata_profiling\\lib\\site-packages (from phik<0.13,>=0.11.1->ydata-profiling) (1.3.2)\n",
      "Requirement already satisfied: typing-extensions>=4.2.0 in c:\\users\\ushah\\miniconda3\\envs\\ydata_profiling\\lib\\site-packages (from pydantic<2,>=1.8.1->ydata-profiling) (4.8.0)\n",
      "Requirement already satisfied: charset-normalizer<4,>=2 in c:\\users\\ushah\\miniconda3\\envs\\ydata_profiling\\lib\\site-packages (from requests<3,>=2.24.0->ydata-profiling) (3.3.0)\n",
      "Requirement already satisfied: idna<4,>=2.5 in c:\\users\\ushah\\miniconda3\\envs\\ydata_profiling\\lib\\site-packages (from requests<3,>=2.24.0->ydata-profiling) (3.4)\n",
      "Requirement already satisfied: urllib3<3,>=1.21.1 in c:\\users\\ushah\\miniconda3\\envs\\ydata_profiling\\lib\\site-packages (from requests<3,>=2.24.0->ydata-profiling) (2.0.6)\n",
      "Requirement already satisfied: certifi>=2017.4.17 in c:\\users\\ushah\\miniconda3\\envs\\ydata_profiling\\lib\\site-packages (from requests<3,>=2.24.0->ydata-profiling) (2023.7.22)\n",
      "Requirement already satisfied: patsy>=0.5.2 in c:\\users\\ushah\\miniconda3\\envs\\ydata_profiling\\lib\\site-packages (from statsmodels<1,>=0.13.2->ydata-profiling) (0.5.3)\n",
      "Requirement already satisfied: colorama in c:\\users\\ushah\\miniconda3\\envs\\ydata_profiling\\lib\\site-packages (from tqdm<5,>=4.48.2->ydata-profiling) (0.4.6)\n",
      "Requirement already satisfied: six in c:\\users\\ushah\\miniconda3\\envs\\ydata_profiling\\lib\\site-packages (from patsy>=0.5.2->statsmodels<1,>=0.13.2->ydata-profiling) (1.16.0)\n",
      "Note: you may need to restart the kernel to use updated packages.\n"
     ]
    },
    {
     "name": "stderr",
     "output_type": "stream",
     "text": [
      "WARNING: There was an error checking the latest version of pip.\n"
     ]
    }
   ],
   "source": [
    "pip install ydata-profiling"
   ]
  },
  {
   "cell_type": "code",
   "execution_count": 4,
   "metadata": {},
   "outputs": [
    {
     "name": "stderr",
     "output_type": "stream",
     "text": [
      "c:\\Users\\ushah\\miniconda3\\envs\\ydata_profiling\\lib\\site-packages\\tqdm\\auto.py:21: TqdmWarning: IProgress not found. Please update jupyter and ipywidgets. See https://ipywidgets.readthedocs.io/en/stable/user_install.html\n",
      "  from .autonotebook import tqdm as notebook_tqdm\n"
     ]
    }
   ],
   "source": [
    "# import libraries\n",
    "import pandas as pd\n",
    "import seaborn as sns\n",
    "import ydata_profiling as yp"
   ]
  },
  {
   "cell_type": "code",
   "execution_count": 6,
   "metadata": {},
   "outputs": [],
   "source": [
    "# import data from seaborn\n",
    "df = sns.load_dataset('titanic')"
   ]
  },
  {
   "cell_type": "code",
   "execution_count": 7,
   "metadata": {},
   "outputs": [
    {
     "name": "stderr",
     "output_type": "stream",
     "text": [
      "Summarize dataset: 100%|██████████| 41/41 [00:23<00:00,  1.72it/s, Completed]                    \n",
      "Generate report structure: 100%|██████████| 1/1 [00:30<00:00, 30.36s/it]\n",
      "Render HTML: 100%|██████████| 1/1 [00:06<00:00,  6.24s/it]\n",
      "Export report to file: 100%|██████████| 1/1 [00:00<00:00, 25.86it/s]\n"
     ]
    }
   ],
   "source": [
    "# ydata profile report\n",
    "profile = yp.ProfileReport(df)\n",
    "profile.to_file(output_file='ydata_titanic.html')"
   ]
  },
  {
   "cell_type": "markdown",
   "metadata": {},
   "source": [
    "Do work with pak population data set"
   ]
  },
  {
   "cell_type": "code",
   "execution_count": 9,
   "metadata": {},
   "outputs": [],
   "source": [
    "df_popu = pd.read_csv('sub-division_population_of_pakistan.csv')"
   ]
  },
  {
   "cell_type": "code",
   "execution_count": 10,
   "metadata": {},
   "outputs": [
    {
     "name": "stderr",
     "output_type": "stream",
     "text": [
      "Summarize dataset:   0%|          | 0/5 [00:00<?, ?it/s]"
     ]
    },
    {
     "name": "stderr",
     "output_type": "stream",
     "text": [
      "Summarize dataset: 100%|██████████| 319/319 [04:17<00:00,  1.24it/s, Completed]                                                     \n",
      "Generate report structure: 100%|██████████| 1/1 [00:25<00:00, 25.76s/it]\n",
      "Render HTML: 100%|██████████| 1/1 [00:27<00:00, 27.38s/it]\n",
      "Export report to file: 100%|██████████| 1/1 [00:00<00:00,  7.56it/s]\n"
     ]
    }
   ],
   "source": [
    "# ydata profile report\n",
    "profile = yp.ProfileReport(df_popu)\n",
    "profile.to_file(output_file='ydata_sub-division_population_of_pakistan.html')"
   ]
  },
  {
   "cell_type": "code",
   "execution_count": 11,
   "metadata": {},
   "outputs": [],
   "source": [
    "data_score=pd.read_csv('goalscorers.csv')"
   ]
  },
  {
   "cell_type": "code",
   "execution_count": 12,
   "metadata": {},
   "outputs": [
    {
     "name": "stderr",
     "output_type": "stream",
     "text": [
      "Summarize dataset: 100%|██████████| 19/19 [00:03<00:00,  5.48it/s, Completed]                 \n",
      "Generate report structure: 100%|██████████| 1/1 [00:15<00:00, 15.15s/it]\n",
      "Render HTML: 100%|██████████| 1/1 [00:01<00:00,  1.03s/it]\n",
      "Export report to file: 100%|██████████| 1/1 [00:00<00:00, 36.82it/s]\n"
     ]
    }
   ],
   "source": [
    "pro = yp.ProfileReport(data_score)\n",
    "pro.to_file(output_file='ydata_goalscorers.html')"
   ]
  }
 ],
 "metadata": {
  "kernelspec": {
   "display_name": "ydata_profiling",
   "language": "python",
   "name": "python3"
  },
  "language_info": {
   "codemirror_mode": {
    "name": "ipython",
    "version": 3
   },
   "file_extension": ".py",
   "mimetype": "text/x-python",
   "name": "python",
   "nbconvert_exporter": "python",
   "pygments_lexer": "ipython3",
   "version": "3.10.0"
  }
 },
 "nbformat": 4,
 "nbformat_minor": 2
}
